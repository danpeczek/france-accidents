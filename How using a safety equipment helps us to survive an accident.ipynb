{
 "cells": [
  {
   "cell_type": "markdown",
   "metadata": {},
   "source": [
    "### Question: How using a safety equipment helps us to survive an accident?\n",
    "\n",
    "We were always told: 'fasten a seat belts', 'wear helmet'. In some countries it's mandatory and not using them can cause a fine. The answer can be find in 'users' dataframe, so let's check it.\n",
    "\n",
    "First step before any data analysis is to import required libraries and data. Any information required to understand columns is available here: https://www.kaggle.com/ahmedlahlou/accidents-in-france-from-2005-to-2016."
   ]
  },
  {
   "cell_type": "code",
   "execution_count": 81,
   "metadata": {},
   "outputs": [],
   "source": [
    "import numpy as np\n",
    "import pandas as pd\n",
    "import matplotlib.pyplot as plt\n",
    "%matplotlib inline\n",
    "import seaborn as sns\n",
    "\n",
    "users = pd.read_csv('data/users.csv', encoding='latin1')"
   ]
  },
  {
   "cell_type": "markdown",
   "metadata": {},
   "source": [
    "Now let's take a look on dataframe."
   ]
  },
  {
   "cell_type": "code",
   "execution_count": 82,
   "metadata": {},
   "outputs": [
    {
     "data": {
      "text/html": [
       "<div>\n",
       "<style scoped>\n",
       "    .dataframe tbody tr th:only-of-type {\n",
       "        vertical-align: middle;\n",
       "    }\n",
       "\n",
       "    .dataframe tbody tr th {\n",
       "        vertical-align: top;\n",
       "    }\n",
       "\n",
       "    .dataframe thead th {\n",
       "        text-align: right;\n",
       "    }\n",
       "</style>\n",
       "<table border=\"1\" class=\"dataframe\">\n",
       "  <thead>\n",
       "    <tr style=\"text-align: right;\">\n",
       "      <th></th>\n",
       "      <th>Num_Acc</th>\n",
       "      <th>place</th>\n",
       "      <th>catu</th>\n",
       "      <th>grav</th>\n",
       "      <th>sexe</th>\n",
       "      <th>trajet</th>\n",
       "      <th>secu</th>\n",
       "      <th>locp</th>\n",
       "      <th>actp</th>\n",
       "      <th>etatp</th>\n",
       "      <th>an_nais</th>\n",
       "      <th>num_veh</th>\n",
       "    </tr>\n",
       "  </thead>\n",
       "  <tbody>\n",
       "    <tr>\n",
       "      <th>0</th>\n",
       "      <td>201600000001</td>\n",
       "      <td>1.0</td>\n",
       "      <td>1</td>\n",
       "      <td>1</td>\n",
       "      <td>2</td>\n",
       "      <td>0.0</td>\n",
       "      <td>11.0</td>\n",
       "      <td>0.0</td>\n",
       "      <td>0.0</td>\n",
       "      <td>0.0</td>\n",
       "      <td>1983.0</td>\n",
       "      <td>B02</td>\n",
       "    </tr>\n",
       "    <tr>\n",
       "      <th>1</th>\n",
       "      <td>201600000001</td>\n",
       "      <td>1.0</td>\n",
       "      <td>1</td>\n",
       "      <td>3</td>\n",
       "      <td>1</td>\n",
       "      <td>9.0</td>\n",
       "      <td>21.0</td>\n",
       "      <td>0.0</td>\n",
       "      <td>0.0</td>\n",
       "      <td>0.0</td>\n",
       "      <td>2001.0</td>\n",
       "      <td>A01</td>\n",
       "    </tr>\n",
       "    <tr>\n",
       "      <th>2</th>\n",
       "      <td>201600000002</td>\n",
       "      <td>1.0</td>\n",
       "      <td>1</td>\n",
       "      <td>3</td>\n",
       "      <td>1</td>\n",
       "      <td>5.0</td>\n",
       "      <td>11.0</td>\n",
       "      <td>0.0</td>\n",
       "      <td>0.0</td>\n",
       "      <td>0.0</td>\n",
       "      <td>1960.0</td>\n",
       "      <td>A01</td>\n",
       "    </tr>\n",
       "    <tr>\n",
       "      <th>3</th>\n",
       "      <td>201600000002</td>\n",
       "      <td>2.0</td>\n",
       "      <td>2</td>\n",
       "      <td>3</td>\n",
       "      <td>1</td>\n",
       "      <td>0.0</td>\n",
       "      <td>11.0</td>\n",
       "      <td>0.0</td>\n",
       "      <td>0.0</td>\n",
       "      <td>0.0</td>\n",
       "      <td>2000.0</td>\n",
       "      <td>A01</td>\n",
       "    </tr>\n",
       "    <tr>\n",
       "      <th>4</th>\n",
       "      <td>201600000002</td>\n",
       "      <td>3.0</td>\n",
       "      <td>2</td>\n",
       "      <td>3</td>\n",
       "      <td>2</td>\n",
       "      <td>0.0</td>\n",
       "      <td>11.0</td>\n",
       "      <td>0.0</td>\n",
       "      <td>0.0</td>\n",
       "      <td>0.0</td>\n",
       "      <td>1962.0</td>\n",
       "      <td>A01</td>\n",
       "    </tr>\n",
       "  </tbody>\n",
       "</table>\n",
       "</div>"
      ],
      "text/plain": [
       "        Num_Acc  place  catu  grav  sexe  trajet  secu  locp  actp  etatp  \\\n",
       "0  201600000001    1.0     1     1     2     0.0  11.0   0.0   0.0    0.0   \n",
       "1  201600000001    1.0     1     3     1     9.0  21.0   0.0   0.0    0.0   \n",
       "2  201600000002    1.0     1     3     1     5.0  11.0   0.0   0.0    0.0   \n",
       "3  201600000002    2.0     2     3     1     0.0  11.0   0.0   0.0    0.0   \n",
       "4  201600000002    3.0     2     3     2     0.0  11.0   0.0   0.0    0.0   \n",
       "\n",
       "   an_nais num_veh  \n",
       "0   1983.0     B02  \n",
       "1   2001.0     A01  \n",
       "2   1960.0     A01  \n",
       "3   2000.0     A01  \n",
       "4   1962.0     A01  "
      ]
     },
     "execution_count": 82,
     "metadata": {},
     "output_type": "execute_result"
    }
   ],
   "source": [
    "users.head()"
   ]
  },
  {
   "cell_type": "markdown",
   "metadata": {},
   "source": [
    "Let's see which columns contain missing values - we are interested here in two columns:\n",
    "* 'grav' which is a severity of incident \n",
    "    * 1 - Unscathed\n",
    "    * 2 - Killed\n",
    "    * 3 - Hospitalized wounded\n",
    "    * 4 - Light injury\n",
    "* 'secu' which two numbers determine the safety equippment that was available for person first number stands for:\n",
    "    * 1 - Belt\n",
    "    * 2 - Helmet\n",
    "    * 3 - Children's device\n",
    "    * 4 - Reflective equipment\n",
    "    * 9 - Other\n",
    "    \n",
    "    the second number is the use of Safety Equipment:\n",
    "    * 1 - Yes\n",
    "    * 2 - No\n",
    "    * 3 - Not determinable"
   ]
  },
  {
   "cell_type": "code",
   "execution_count": 83,
   "metadata": {},
   "outputs": [],
   "source": [
    "# Make a copy of users - in case of future extension of the notebook\n",
    "users_q1 = users.copy()"
   ]
  },
  {
   "cell_type": "markdown",
   "metadata": {},
   "source": [
    "Let's clean a bit 'grav' column - so we'll have descriptive names instead of numbers."
   ]
  },
  {
   "cell_type": "code",
   "execution_count": 84,
   "metadata": {},
   "outputs": [],
   "source": [
    "users_q1['grav']= users_q1['grav'].astype(str) \n",
    "users_q1['grav'] = users_q1['grav'].replace({'1': 'unscathed', '2': 'killed', '3': 'hospitalized', '4': 'light injury'})"
   ]
  },
  {
   "cell_type": "code",
   "execution_count": 85,
   "metadata": {},
   "outputs": [
    {
     "data": {
      "text/plain": [
       "Index(['place', 'trajet', 'secu', 'locp', 'actp', 'etatp', 'an_nais'], dtype='object')"
      ]
     },
     "execution_count": 85,
     "metadata": {},
     "output_type": "execute_result"
    }
   ],
   "source": [
    "users_q1.columns[users.isna().sum() != 0]"
   ]
  },
  {
   "cell_type": "markdown",
   "metadata": {},
   "source": [
    "So it looks like the 'grav' does not have any missing value, but 'secu' has. What is the percentage of missing 'secu' values?"
   ]
  },
  {
   "cell_type": "code",
   "execution_count": 86,
   "metadata": {},
   "outputs": [
    {
     "data": {
      "text/plain": [
       "0.02316518346166455"
      ]
     },
     "execution_count": 86,
     "metadata": {},
     "output_type": "execute_result"
    }
   ],
   "source": [
    "nans = users_q1.isna()['secu'].sum() / users.shape[0]\n",
    "nans"
   ]
  },
  {
   "cell_type": "markdown",
   "metadata": {},
   "source": [
    "So it looks like only 2,3% of all users has missing values about equipment. I think we should risk removing that rows, as we can't assume what they are representing."
   ]
  },
  {
   "cell_type": "code",
   "execution_count": 87,
   "metadata": {},
   "outputs": [],
   "source": [
    "users_q1 = users_q1.dropna(subset = ['secu'], axis='rows')"
   ]
  },
  {
   "cell_type": "markdown",
   "metadata": {},
   "source": [
    "Now let's work a bit on 'secu' column."
   ]
  },
  {
   "cell_type": "code",
   "execution_count": 88,
   "metadata": {},
   "outputs": [],
   "source": [
    "# Split Secu to two columns - type and if equipment was used and renaming them\n",
    "users_q1.loc[:, 'equipment_used'] = users_q1.loc[:, 'secu'].values % 10"
   ]
  },
  {
   "cell_type": "markdown",
   "metadata": {},
   "source": [
    "Let's visualize first diagram"
   ]
  },
  {
   "cell_type": "code",
   "execution_count": 89,
   "metadata": {},
   "outputs": [
    {
     "data": {
      "image/png": "[encoded data removed]",
      "text/plain": [
       "<Figure size 432x288 with 1 Axes>"
      ]
     },
     "metadata": {
      "needs_background": "light"
     },
     "output_type": "display_data"
    }
   ],
   "source": [
    "ax = sns.countplot(x = 'grav', hue = 'equipment_used', data=users_q1)\n",
    "ax.set_title('Severity of accident based on using safety equipment')\n",
    "ax.set_ylabel('Number of people')\n",
    "plt.show()"
   ]
  },
  {
   "cell_type": "markdown",
   "metadata": {},
   "source": [
    "Apparently, some of the digits in 'secu' are zeros. Both on two places. Based on above diagram I think it's safe to change 0 value to '11' which means 'safety belt used'. And all two digit values with 0 in the end to 1, which means that equipment was used. \n",
    "\n",
    "I think it's an error in the dataset - topic is already set on kaggle: https://www.kaggle.com/ahmedlahlou/accidents-in-france-from-2005-to-2016/discussion/125523."
   ]
  },
  {
   "cell_type": "code",
   "execution_count": 90,
   "metadata": {},
   "outputs": [],
   "source": [
    "users_q1['equipment_used'] = users_q1['equipment_used'].replace(0,1)\n",
    "users_q1['equipment_used']= users_q1['equipment_used'].astype(int)\n",
    "users_q1['equipment_used']= users_q1['equipment_used'].astype(str) \n",
    "users_q1['equipment_used'] = users_q1['equipment_used'].replace({'1': 'yes', '2': 'no', '3': 'unknown'})"
   ]
  },
  {
   "cell_type": "code",
   "execution_count": 91,
   "metadata": {},
   "outputs": [
    {
     "data": {
      "text/html": [
       "<div>\n",
       "<style scoped>\n",
       "    .dataframe tbody tr th:only-of-type {\n",
       "        vertical-align: middle;\n",
       "    }\n",
       "\n",
       "    .dataframe tbody tr th {\n",
       "        vertical-align: top;\n",
       "    }\n",
       "\n",
       "    .dataframe thead th {\n",
       "        text-align: right;\n",
       "    }\n",
       "</style>\n",
       "<table border=\"1\" class=\"dataframe\">\n",
       "  <thead>\n",
       "    <tr style=\"text-align: right;\">\n",
       "      <th></th>\n",
       "      <th>Num_Acc</th>\n",
       "      <th>place</th>\n",
       "      <th>catu</th>\n",
       "      <th>grav</th>\n",
       "      <th>sexe</th>\n",
       "      <th>trajet</th>\n",
       "      <th>secu</th>\n",
       "      <th>locp</th>\n",
       "      <th>actp</th>\n",
       "      <th>etatp</th>\n",
       "      <th>an_nais</th>\n",
       "      <th>num_veh</th>\n",
       "      <th>equipment_used</th>\n",
       "    </tr>\n",
       "  </thead>\n",
       "  <tbody>\n",
       "    <tr>\n",
       "      <th>0</th>\n",
       "      <td>201600000001</td>\n",
       "      <td>1.0</td>\n",
       "      <td>1</td>\n",
       "      <td>unscathed</td>\n",
       "      <td>2</td>\n",
       "      <td>0.0</td>\n",
       "      <td>1.0</td>\n",
       "      <td>0.0</td>\n",
       "      <td>0.0</td>\n",
       "      <td>0.0</td>\n",
       "      <td>1983.0</td>\n",
       "      <td>B02</td>\n",
       "      <td>yes</td>\n",
       "    </tr>\n",
       "    <tr>\n",
       "      <th>1</th>\n",
       "      <td>201600000001</td>\n",
       "      <td>1.0</td>\n",
       "      <td>1</td>\n",
       "      <td>hospitalized</td>\n",
       "      <td>1</td>\n",
       "      <td>9.0</td>\n",
       "      <td>2.0</td>\n",
       "      <td>0.0</td>\n",
       "      <td>0.0</td>\n",
       "      <td>0.0</td>\n",
       "      <td>2001.0</td>\n",
       "      <td>A01</td>\n",
       "      <td>yes</td>\n",
       "    </tr>\n",
       "    <tr>\n",
       "      <th>2</th>\n",
       "      <td>201600000002</td>\n",
       "      <td>1.0</td>\n",
       "      <td>1</td>\n",
       "      <td>hospitalized</td>\n",
       "      <td>1</td>\n",
       "      <td>5.0</td>\n",
       "      <td>1.0</td>\n",
       "      <td>0.0</td>\n",
       "      <td>0.0</td>\n",
       "      <td>0.0</td>\n",
       "      <td>1960.0</td>\n",
       "      <td>A01</td>\n",
       "      <td>yes</td>\n",
       "    </tr>\n",
       "    <tr>\n",
       "      <th>3</th>\n",
       "      <td>201600000002</td>\n",
       "      <td>2.0</td>\n",
       "      <td>2</td>\n",
       "      <td>hospitalized</td>\n",
       "      <td>1</td>\n",
       "      <td>0.0</td>\n",
       "      <td>1.0</td>\n",
       "      <td>0.0</td>\n",
       "      <td>0.0</td>\n",
       "      <td>0.0</td>\n",
       "      <td>2000.0</td>\n",
       "      <td>A01</td>\n",
       "      <td>yes</td>\n",
       "    </tr>\n",
       "    <tr>\n",
       "      <th>4</th>\n",
       "      <td>201600000002</td>\n",
       "      <td>3.0</td>\n",
       "      <td>2</td>\n",
       "      <td>hospitalized</td>\n",
       "      <td>2</td>\n",
       "      <td>0.0</td>\n",
       "      <td>1.0</td>\n",
       "      <td>0.0</td>\n",
       "      <td>0.0</td>\n",
       "      <td>0.0</td>\n",
       "      <td>1962.0</td>\n",
       "      <td>A01</td>\n",
       "      <td>yes</td>\n",
       "    </tr>\n",
       "  </tbody>\n",
       "</table>\n",
       "</div>"
      ],
      "text/plain": [
       "        Num_Acc  place  catu          grav  sexe  trajet  secu  locp  actp  \\\n",
       "0  201600000001    1.0     1     unscathed     2     0.0   1.0   0.0   0.0   \n",
       "1  201600000001    1.0     1  hospitalized     1     9.0   2.0   0.0   0.0   \n",
       "2  201600000002    1.0     1  hospitalized     1     5.0   1.0   0.0   0.0   \n",
       "3  201600000002    2.0     2  hospitalized     1     0.0   1.0   0.0   0.0   \n",
       "4  201600000002    3.0     2  hospitalized     2     0.0   1.0   0.0   0.0   \n",
       "\n",
       "   etatp  an_nais num_veh equipment_used  \n",
       "0    0.0   1983.0     B02            yes  \n",
       "1    0.0   2001.0     A01            yes  \n",
       "2    0.0   1960.0     A01            yes  \n",
       "3    0.0   2000.0     A01            yes  \n",
       "4    0.0   1962.0     A01            yes  "
      ]
     },
     "execution_count": 91,
     "metadata": {},
     "output_type": "execute_result"
    }
   ],
   "source": [
    "users_q1.loc[:, 'secu'] = users_q1.loc[:, 'secu'].values // 10\n",
    "users_q1['secu'] = users_q1['secu'].replace(0,1)\n",
    "users_q1.head()"
   ]
  },
  {
   "cell_type": "markdown",
   "metadata": {},
   "source": [
    "Now let's see the same diagram"
   ]
  },
  {
   "cell_type": "code",
   "execution_count": 92,
   "metadata": {},
   "outputs": [
    {
     "data": {
      "image/png": "[encoded data removed]",
      "text/plain": [
       "<Figure size 432x288 with 1 Axes>"
      ]
     },
     "metadata": {
      "needs_background": "light"
     },
     "output_type": "display_data"
    }
   ],
   "source": [
    "plt.clf()\n",
    "ax = sns.countplot(x = 'grav', hue = 'equipment_used', data=users_q1)\n",
    "ax.set_title('Severity of accident based on using safety equipment')\n",
    "ax.set_ylabel('Number of people')\n",
    "plt.show()"
   ]
  },
  {
   "cell_type": "markdown",
   "metadata": {},
   "source": [
    "This diagram is showing the results for all kinds of people, let's filter it out to see how it's applied to drivers and passengers."
   ]
  },
  {
   "cell_type": "code",
   "execution_count": 95,
   "metadata": {},
   "outputs": [
    {
     "data": {
      "image/png": "[encoded data removed]",
      "text/plain": [
       "<Figure size 432x288 with 1 Axes>"
      ]
     },
     "metadata": {
      "needs_background": "light"
     },
     "output_type": "display_data"
    }
   ],
   "source": [
    "plt.clf()\n",
    "ax = sns.countplot(x = 'grav', hue = 'equipment_used', data=users_q1[(users_q1['catu'] == 1) | (users_q1['catu'] == 2)])\n",
    "ax.set_title('Severity of accident for drivers and passengers based on used equipment')\n",
    "ax.set_ylabel('Number of people')\n",
    "plt.show()"
   ]
  },
  {
   "cell_type": "markdown",
   "metadata": {},
   "source": [
    "Based on this information we can tell that using safety belts helps people to survive the accident. Looking on 'no' column allows us to tell that if you won't "
   ]
  }
 ],
 "metadata": {
  "kernelspec": {
   "display_name": "Python 3",
   "language": "python",
   "name": "python3"
  },
  "language_info": {
   "codemirror_mode": {
    "name": "ipython",
    "version": 3
   },
   "file_extension": ".py",
   "mimetype": "text/x-python",
   "name": "python",
   "nbconvert_exporter": "python",
   "pygments_lexer": "ipython3",
   "version": "3.7.1"
  }
 },
 "nbformat": 4,
 "nbformat_minor": 2
}
